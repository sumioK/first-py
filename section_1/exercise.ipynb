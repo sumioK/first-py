{
  "nbformat": 4,
  "nbformat_minor": 0,
  "metadata": {
    "colab": {
      "name": "exercise.ipynb",
      "provenance": [],
      "collapsed_sections": [],
      "include_colab_link": true
    },
    "kernelspec": {
      "name": "python3",
      "display_name": "Python 3"
    }
  },
  "cells": [
    {
      "cell_type": "markdown",
      "metadata": {
        "id": "view-in-github",
        "colab_type": "text"
      },
      "source": [
        "<a href=\"https://colab.research.google.com/github/sumioK/first-py/blob/master/section_1/exercise.ipynb\" target=\"_parent\"><img src=\"https://colab.research.google.com/assets/colab-badge.svg\" alt=\"Open In Colab\"/></a>"
      ]
    },
    {
      "cell_type": "markdown",
      "metadata": {
        "id": "z8g5FUr1BPri"
      },
      "source": [
        "# 演習\n",
        "Pythonを学ぶ前に、Google Colaboratoryの使い方に慣れておきましょう。  \n",
        "このノートブックで、以下のセルの操作を行ってみましょう。  \n",
        "\n",
        "* コードセルの作成\n",
        "* コードセルにPythonのコードを記述し、「Hello World!」と表示\n",
        "* コードセルに足し算のコードを記述し、結果を表示\n",
        "* テキストセルの作成\n",
        "* テキストセルに文章を記述\n",
        "* テキストセルで文章を改行\n",
        "* テキストセルにリストを記述\n",
        "* セルの上下の入れ替え\n",
        "* セルの消去"
      ]
    },
    {
      "cell_type": "code",
      "source": [
        "print(\"Hello World!\")"
      ],
      "metadata": {
        "id": "91K-tlyjiMYQ",
        "outputId": "3674dd6e-932b-4caf-d6ed-7cee4558a00c",
        "colab": {
          "base_uri": "https://localhost:8080/"
        }
      },
      "execution_count": 1,
      "outputs": [
        {
          "output_type": "stream",
          "name": "stdout",
          "text": [
            "Hello World!\n"
          ]
        }
      ]
    },
    {
      "cell_type": "code",
      "source": [
        "print(1 + 1)"
      ],
      "metadata": {
        "id": "hFbn3V62iXWO",
        "outputId": "612bbc6a-a30a-40ee-9ecc-314267023cbd",
        "colab": {
          "base_uri": "https://localhost:8080/"
        }
      },
      "execution_count": 3,
      "outputs": [
        {
          "output_type": "stream",
          "name": "stdout",
          "text": [
            "2\n"
          ]
        }
      ]
    },
    {
      "cell_type": "markdown",
      "source": [
        "こんにちは  \n",
        "1. 演習 \n",
        "2. テスト  \n"
      ],
      "metadata": {
        "id": "KFyYRIOuifjs"
      }
    }
  ]
}